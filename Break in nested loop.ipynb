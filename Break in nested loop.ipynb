{
 "cells": [
  {
   "cell_type": "markdown",
   "id": "45264afc",
   "metadata": {},
   "source": [
    "#### understand how break will work in nested loop\n",
    "\n",
    "- Break in Python is a loop control statement. \n",
    "- it is used to control the sequence of the loop. \n",
    "- Suppose you want to terminate a loop and skip to the next code after the loop break will help you do that\n",
    "\n",
    "#### break using nested loop\n",
    "- it breaks the sequence of the loop, and the control goes to the first statement outside the loop.\n",
    "- Syntax of Break in Python\n",
    " - break;\n",
    "- It is used after the loop statements."
   ]
  },
  {
   "cell_type": "code",
   "execution_count": 5,
   "id": "d2b30f57",
   "metadata": {},
   "outputs": [
    {
     "name": "stdout",
     "output_type": "stream",
     "text": [
      "0 3\n",
      "1 0\n",
      "2 3\n",
      "3 3\n"
     ]
    }
   ],
   "source": [
    "for x in range(4):\n",
    "    for y in range(4):\n",
    "        if x == 1:\n",
    "            break\n",
    "    print(x, y)"
   ]
  },
  {
   "cell_type": "markdown",
   "id": "43b5986f",
   "metadata": {},
   "source": [
    "- here we can observe that the outer loop is still printing out all of its values which isn't what was intended.\n",
    "- So just using the break statement doesn't actually break a nested loop."
   ]
  }
 ],
 "metadata": {
  "kernelspec": {
   "display_name": "Python 3 (ipykernel)",
   "language": "python",
   "name": "python3"
  },
  "language_info": {
   "codemirror_mode": {
    "name": "ipython",
    "version": 3
   },
   "file_extension": ".py",
   "mimetype": "text/x-python",
   "name": "python",
   "nbconvert_exporter": "python",
   "pygments_lexer": "ipython3",
   "version": "3.10.9"
  }
 },
 "nbformat": 4,
 "nbformat_minor": 5
}
